{
 "cells": [
  {
   "cell_type": "code",
   "execution_count": 11,
   "metadata": {},
   "outputs": [],
   "source": [
    "import pandas as pd\n",
    "import numpy as np\n",
    "import matplotlib.pyplot as plt"
   ]
  },
  {
   "cell_type": "code",
   "execution_count": 2,
   "metadata": {},
   "outputs": [
    {
     "data": {
      "text/html": [
       "<div>\n",
       "<style scoped>\n",
       "    .dataframe tbody tr th:only-of-type {\n",
       "        vertical-align: middle;\n",
       "    }\n",
       "\n",
       "    .dataframe tbody tr th {\n",
       "        vertical-align: top;\n",
       "    }\n",
       "\n",
       "    .dataframe thead th {\n",
       "        text-align: right;\n",
       "    }\n",
       "</style>\n",
       "<table border=\"1\" class=\"dataframe\">\n",
       "  <thead>\n",
       "    <tr style=\"text-align: right;\">\n",
       "      <th></th>\n",
       "      <th>Date</th>\n",
       "      <th>Type</th>\n",
       "      <th>Pos</th>\n",
       "      <th>Neg</th>\n",
       "      <th>Neu</th>\n",
       "    </tr>\n",
       "  </thead>\n",
       "  <tbody>\n",
       "    <tr>\n",
       "      <th>0</th>\n",
       "      <td>01-Mar-21</td>\n",
       "      <td>Politics</td>\n",
       "      <td>314</td>\n",
       "      <td>311</td>\n",
       "      <td>375</td>\n",
       "    </tr>\n",
       "    <tr>\n",
       "      <th>1</th>\n",
       "      <td>01-Mar-21</td>\n",
       "      <td>Entertainment</td>\n",
       "      <td>693</td>\n",
       "      <td>64</td>\n",
       "      <td>243</td>\n",
       "    </tr>\n",
       "    <tr>\n",
       "      <th>2</th>\n",
       "      <td>01-Mar-21</td>\n",
       "      <td>Social</td>\n",
       "      <td>670</td>\n",
       "      <td>30</td>\n",
       "      <td>300</td>\n",
       "    </tr>\n",
       "    <tr>\n",
       "      <th>3</th>\n",
       "      <td>01-Mar-21</td>\n",
       "      <td>Song</td>\n",
       "      <td>106</td>\n",
       "      <td>82</td>\n",
       "      <td>812</td>\n",
       "    </tr>\n",
       "    <tr>\n",
       "      <th>4</th>\n",
       "      <td>01-Mar-21</td>\n",
       "      <td>Entertainment</td>\n",
       "      <td>420</td>\n",
       "      <td>76</td>\n",
       "      <td>504</td>\n",
       "    </tr>\n",
       "  </tbody>\n",
       "</table>\n",
       "</div>"
      ],
      "text/plain": [
       "        Date           Type  Pos  Neg  Neu\n",
       "0  01-Mar-21       Politics  314  311  375\n",
       "1  01-Mar-21  Entertainment  693   64  243\n",
       "2  01-Mar-21         Social  670   30  300\n",
       "3  01-Mar-21           Song  106   82  812\n",
       "4  01-Mar-21  Entertainment  420   76  504"
      ]
     },
     "execution_count": 2,
     "metadata": {},
     "output_type": "execute_result"
    }
   ],
   "source": [
    "data = pd.read_csv(\"TimeSeriesData.csv\")\n",
    "data.head()"
   ]
  },
  {
   "cell_type": "code",
   "execution_count": 3,
   "metadata": {},
   "outputs": [
    {
     "data": {
      "text/html": [
       "<div>\n",
       "<style scoped>\n",
       "    .dataframe tbody tr th:only-of-type {\n",
       "        vertical-align: middle;\n",
       "    }\n",
       "\n",
       "    .dataframe tbody tr th {\n",
       "        vertical-align: top;\n",
       "    }\n",
       "\n",
       "    .dataframe thead th {\n",
       "        text-align: right;\n",
       "    }\n",
       "</style>\n",
       "<table border=\"1\" class=\"dataframe\">\n",
       "  <thead>\n",
       "    <tr style=\"text-align: right;\">\n",
       "      <th></th>\n",
       "      <th>Date</th>\n",
       "      <th>Type</th>\n",
       "      <th>Pos</th>\n",
       "      <th>Neg</th>\n",
       "      <th>Neu</th>\n",
       "    </tr>\n",
       "  </thead>\n",
       "  <tbody>\n",
       "    <tr>\n",
       "      <th>43</th>\n",
       "      <td>09-Mar-21</td>\n",
       "      <td>Cricket</td>\n",
       "      <td>726</td>\n",
       "      <td>6</td>\n",
       "      <td>268</td>\n",
       "    </tr>\n",
       "    <tr>\n",
       "      <th>44</th>\n",
       "      <td>09-Mar-21</td>\n",
       "      <td>Cricket</td>\n",
       "      <td>738</td>\n",
       "      <td>34</td>\n",
       "      <td>228</td>\n",
       "    </tr>\n",
       "    <tr>\n",
       "      <th>55</th>\n",
       "      <td>17-Mar-21</td>\n",
       "      <td>Cricket</td>\n",
       "      <td>68</td>\n",
       "      <td>24</td>\n",
       "      <td>908</td>\n",
       "    </tr>\n",
       "    <tr>\n",
       "      <th>58</th>\n",
       "      <td>17-Mar-21</td>\n",
       "      <td>Cricket</td>\n",
       "      <td>538</td>\n",
       "      <td>232</td>\n",
       "      <td>230</td>\n",
       "    </tr>\n",
       "    <tr>\n",
       "      <th>59</th>\n",
       "      <td>17-Mar-21</td>\n",
       "      <td>Cricket</td>\n",
       "      <td>327</td>\n",
       "      <td>41</td>\n",
       "      <td>632</td>\n",
       "    </tr>\n",
       "  </tbody>\n",
       "</table>\n",
       "</div>"
      ],
      "text/plain": [
       "         Date     Type  Pos  Neg  Neu\n",
       "43  09-Mar-21  Cricket  726    6  268\n",
       "44  09-Mar-21  Cricket  738   34  228\n",
       "55  17-Mar-21  Cricket   68   24  908\n",
       "58  17-Mar-21  Cricket  538  232  230\n",
       "59  17-Mar-21  Cricket  327   41  632"
      ]
     },
     "execution_count": 3,
     "metadata": {},
     "output_type": "execute_result"
    }
   ],
   "source": [
    "data = data[data.Type==\"Cricket\"]\n",
    "data.head()"
   ]
  },
  {
   "cell_type": "code",
   "execution_count": 4,
   "metadata": {},
   "outputs": [],
   "source": [
    "data[\"Date\"] = pd.to_datetime(data[\"Date\"])"
   ]
  },
  {
   "cell_type": "code",
   "execution_count": 5,
   "metadata": {},
   "outputs": [
    {
     "data": {
      "text/html": [
       "<div>\n",
       "<style scoped>\n",
       "    .dataframe tbody tr th:only-of-type {\n",
       "        vertical-align: middle;\n",
       "    }\n",
       "\n",
       "    .dataframe tbody tr th {\n",
       "        vertical-align: top;\n",
       "    }\n",
       "\n",
       "    .dataframe thead th {\n",
       "        text-align: right;\n",
       "    }\n",
       "</style>\n",
       "<table border=\"1\" class=\"dataframe\">\n",
       "  <thead>\n",
       "    <tr style=\"text-align: right;\">\n",
       "      <th></th>\n",
       "      <th>Date</th>\n",
       "      <th>Type</th>\n",
       "      <th>Pos</th>\n",
       "      <th>Neg</th>\n",
       "      <th>Neu</th>\n",
       "    </tr>\n",
       "  </thead>\n",
       "  <tbody>\n",
       "    <tr>\n",
       "      <th>64</th>\n",
       "      <td>2021-03-18</td>\n",
       "      <td>Cricket</td>\n",
       "      <td>506</td>\n",
       "      <td>88</td>\n",
       "      <td>406</td>\n",
       "    </tr>\n",
       "    <tr>\n",
       "      <th>74</th>\n",
       "      <td>2021-03-20</td>\n",
       "      <td>Cricket</td>\n",
       "      <td>392</td>\n",
       "      <td>88</td>\n",
       "      <td>520</td>\n",
       "    </tr>\n",
       "    <tr>\n",
       "      <th>79</th>\n",
       "      <td>2021-03-21</td>\n",
       "      <td>Cricket</td>\n",
       "      <td>754</td>\n",
       "      <td>10</td>\n",
       "      <td>236</td>\n",
       "    </tr>\n",
       "    <tr>\n",
       "      <th>85</th>\n",
       "      <td>2021-03-23</td>\n",
       "      <td>Cricket</td>\n",
       "      <td>500</td>\n",
       "      <td>50</td>\n",
       "      <td>450</td>\n",
       "    </tr>\n",
       "    <tr>\n",
       "      <th>100</th>\n",
       "      <td>2021-03-26</td>\n",
       "      <td>Cricket</td>\n",
       "      <td>452</td>\n",
       "      <td>127</td>\n",
       "      <td>421</td>\n",
       "    </tr>\n",
       "  </tbody>\n",
       "</table>\n",
       "</div>"
      ],
      "text/plain": [
       "          Date     Type  Pos  Neg  Neu\n",
       "64  2021-03-18  Cricket  506   88  406\n",
       "74  2021-03-20  Cricket  392   88  520\n",
       "79  2021-03-21  Cricket  754   10  236\n",
       "85  2021-03-23  Cricket  500   50  450\n",
       "100 2021-03-26  Cricket  452  127  421"
      ]
     },
     "execution_count": 5,
     "metadata": {},
     "output_type": "execute_result"
    }
   ],
   "source": [
    "data = data[data.Date>\"17-Mar-21\"]\n",
    "data.head()"
   ]
  },
  {
   "cell_type": "code",
   "execution_count": 6,
   "metadata": {},
   "outputs": [],
   "source": [
    "data.reset_index(inplace=True)"
   ]
  },
  {
   "cell_type": "code",
   "execution_count": 7,
   "metadata": {},
   "outputs": [
    {
     "data": {
      "text/html": [
       "<div>\n",
       "<style scoped>\n",
       "    .dataframe tbody tr th:only-of-type {\n",
       "        vertical-align: middle;\n",
       "    }\n",
       "\n",
       "    .dataframe tbody tr th {\n",
       "        vertical-align: top;\n",
       "    }\n",
       "\n",
       "    .dataframe thead th {\n",
       "        text-align: right;\n",
       "    }\n",
       "</style>\n",
       "<table border=\"1\" class=\"dataframe\">\n",
       "  <thead>\n",
       "    <tr style=\"text-align: right;\">\n",
       "      <th></th>\n",
       "      <th>index</th>\n",
       "      <th>Date</th>\n",
       "      <th>Type</th>\n",
       "      <th>Pos</th>\n",
       "      <th>Neg</th>\n",
       "      <th>Neu</th>\n",
       "    </tr>\n",
       "  </thead>\n",
       "  <tbody>\n",
       "    <tr>\n",
       "      <th>0</th>\n",
       "      <td>64</td>\n",
       "      <td>2021-03-18</td>\n",
       "      <td>Cricket</td>\n",
       "      <td>506</td>\n",
       "      <td>88</td>\n",
       "      <td>406</td>\n",
       "    </tr>\n",
       "    <tr>\n",
       "      <th>1</th>\n",
       "      <td>74</td>\n",
       "      <td>2021-03-20</td>\n",
       "      <td>Cricket</td>\n",
       "      <td>392</td>\n",
       "      <td>88</td>\n",
       "      <td>520</td>\n",
       "    </tr>\n",
       "    <tr>\n",
       "      <th>2</th>\n",
       "      <td>79</td>\n",
       "      <td>2021-03-21</td>\n",
       "      <td>Cricket</td>\n",
       "      <td>754</td>\n",
       "      <td>10</td>\n",
       "      <td>236</td>\n",
       "    </tr>\n",
       "    <tr>\n",
       "      <th>3</th>\n",
       "      <td>85</td>\n",
       "      <td>2021-03-23</td>\n",
       "      <td>Cricket</td>\n",
       "      <td>500</td>\n",
       "      <td>50</td>\n",
       "      <td>450</td>\n",
       "    </tr>\n",
       "    <tr>\n",
       "      <th>4</th>\n",
       "      <td>100</td>\n",
       "      <td>2021-03-26</td>\n",
       "      <td>Cricket</td>\n",
       "      <td>452</td>\n",
       "      <td>127</td>\n",
       "      <td>421</td>\n",
       "    </tr>\n",
       "  </tbody>\n",
       "</table>\n",
       "</div>"
      ],
      "text/plain": [
       "   index       Date     Type  Pos  Neg  Neu\n",
       "0     64 2021-03-18  Cricket  506   88  406\n",
       "1     74 2021-03-20  Cricket  392   88  520\n",
       "2     79 2021-03-21  Cricket  754   10  236\n",
       "3     85 2021-03-23  Cricket  500   50  450\n",
       "4    100 2021-03-26  Cricket  452  127  421"
      ]
     },
     "execution_count": 7,
     "metadata": {},
     "output_type": "execute_result"
    }
   ],
   "source": [
    "data.head()"
   ]
  },
  {
   "cell_type": "code",
   "execution_count": 8,
   "metadata": {},
   "outputs": [],
   "source": [
    "del data[\"index\"]"
   ]
  },
  {
   "cell_type": "code",
   "execution_count": 9,
   "metadata": {},
   "outputs": [
    {
     "data": {
      "text/html": [
       "<div>\n",
       "<style scoped>\n",
       "    .dataframe tbody tr th:only-of-type {\n",
       "        vertical-align: middle;\n",
       "    }\n",
       "\n",
       "    .dataframe tbody tr th {\n",
       "        vertical-align: top;\n",
       "    }\n",
       "\n",
       "    .dataframe thead th {\n",
       "        text-align: right;\n",
       "    }\n",
       "</style>\n",
       "<table border=\"1\" class=\"dataframe\">\n",
       "  <thead>\n",
       "    <tr style=\"text-align: right;\">\n",
       "      <th></th>\n",
       "      <th>Date</th>\n",
       "      <th>Type</th>\n",
       "      <th>Pos</th>\n",
       "      <th>Neg</th>\n",
       "      <th>Neu</th>\n",
       "    </tr>\n",
       "  </thead>\n",
       "  <tbody>\n",
       "    <tr>\n",
       "      <th>0</th>\n",
       "      <td>2021-03-18</td>\n",
       "      <td>Cricket</td>\n",
       "      <td>506</td>\n",
       "      <td>88</td>\n",
       "      <td>406</td>\n",
       "    </tr>\n",
       "    <tr>\n",
       "      <th>1</th>\n",
       "      <td>2021-03-20</td>\n",
       "      <td>Cricket</td>\n",
       "      <td>392</td>\n",
       "      <td>88</td>\n",
       "      <td>520</td>\n",
       "    </tr>\n",
       "    <tr>\n",
       "      <th>2</th>\n",
       "      <td>2021-03-21</td>\n",
       "      <td>Cricket</td>\n",
       "      <td>754</td>\n",
       "      <td>10</td>\n",
       "      <td>236</td>\n",
       "    </tr>\n",
       "    <tr>\n",
       "      <th>3</th>\n",
       "      <td>2021-03-23</td>\n",
       "      <td>Cricket</td>\n",
       "      <td>500</td>\n",
       "      <td>50</td>\n",
       "      <td>450</td>\n",
       "    </tr>\n",
       "    <tr>\n",
       "      <th>4</th>\n",
       "      <td>2021-03-26</td>\n",
       "      <td>Cricket</td>\n",
       "      <td>452</td>\n",
       "      <td>127</td>\n",
       "      <td>421</td>\n",
       "    </tr>\n",
       "  </tbody>\n",
       "</table>\n",
       "</div>"
      ],
      "text/plain": [
       "        Date     Type  Pos  Neg  Neu\n",
       "0 2021-03-18  Cricket  506   88  406\n",
       "1 2021-03-20  Cricket  392   88  520\n",
       "2 2021-03-21  Cricket  754   10  236\n",
       "3 2021-03-23  Cricket  500   50  450\n",
       "4 2021-03-26  Cricket  452  127  421"
      ]
     },
     "execution_count": 9,
     "metadata": {},
     "output_type": "execute_result"
    }
   ],
   "source": [
    "data.head()"
   ]
  },
  {
   "cell_type": "code",
   "execution_count": 10,
   "metadata": {},
   "outputs": [],
   "source": [
    "data.to_csv(r'C:\\Users\\asus\\Desktop\\Hashtag WD\\CricketData.csv',index=False)"
   ]
  },
  {
   "cell_type": "code",
   "execution_count": 2,
   "metadata": {},
   "outputs": [
    {
     "data": {
      "text/html": [
       "<div>\n",
       "<style scoped>\n",
       "    .dataframe tbody tr th:only-of-type {\n",
       "        vertical-align: middle;\n",
       "    }\n",
       "\n",
       "    .dataframe tbody tr th {\n",
       "        vertical-align: top;\n",
       "    }\n",
       "\n",
       "    .dataframe thead th {\n",
       "        text-align: right;\n",
       "    }\n",
       "</style>\n",
       "<table border=\"1\" class=\"dataframe\">\n",
       "  <thead>\n",
       "    <tr style=\"text-align: right;\">\n",
       "      <th></th>\n",
       "      <th>Date</th>\n",
       "      <th>Type</th>\n",
       "      <th>Pos</th>\n",
       "      <th>Neg</th>\n",
       "      <th>Neu</th>\n",
       "    </tr>\n",
       "  </thead>\n",
       "  <tbody>\n",
       "    <tr>\n",
       "      <th>0</th>\n",
       "      <td>18-03-2021</td>\n",
       "      <td>Cricket</td>\n",
       "      <td>506</td>\n",
       "      <td>88</td>\n",
       "      <td>406</td>\n",
       "    </tr>\n",
       "    <tr>\n",
       "      <th>1</th>\n",
       "      <td>19-03-2021</td>\n",
       "      <td>Cricket</td>\n",
       "      <td>449</td>\n",
       "      <td>88</td>\n",
       "      <td>463</td>\n",
       "    </tr>\n",
       "    <tr>\n",
       "      <th>2</th>\n",
       "      <td>20-03-2021</td>\n",
       "      <td>Cricket</td>\n",
       "      <td>392</td>\n",
       "      <td>88</td>\n",
       "      <td>520</td>\n",
       "    </tr>\n",
       "    <tr>\n",
       "      <th>3</th>\n",
       "      <td>21-03-2021</td>\n",
       "      <td>Cricket</td>\n",
       "      <td>754</td>\n",
       "      <td>10</td>\n",
       "      <td>236</td>\n",
       "    </tr>\n",
       "    <tr>\n",
       "      <th>4</th>\n",
       "      <td>22-03-2021</td>\n",
       "      <td>Cricket</td>\n",
       "      <td>627</td>\n",
       "      <td>30</td>\n",
       "      <td>343</td>\n",
       "    </tr>\n",
       "  </tbody>\n",
       "</table>\n",
       "</div>"
      ],
      "text/plain": [
       "         Date     Type  Pos  Neg  Neu\n",
       "0  18-03-2021  Cricket  506   88  406\n",
       "1  19-03-2021  Cricket  449   88  463\n",
       "2  20-03-2021  Cricket  392   88  520\n",
       "3  21-03-2021  Cricket  754   10  236\n",
       "4  22-03-2021  Cricket  627   30  343"
      ]
     },
     "execution_count": 2,
     "metadata": {},
     "output_type": "execute_result"
    }
   ],
   "source": [
    "data = pd.read_csv(\"CricketData.csv\")\n",
    "data.head()"
   ]
  },
  {
   "cell_type": "markdown",
   "metadata": {},
   "source": [
    "# Pos Time Series"
   ]
  },
  {
   "cell_type": "code",
   "execution_count": 4,
   "metadata": {},
   "outputs": [],
   "source": [
    "data1 = data.iloc[:,[0,2]]"
   ]
  },
  {
   "cell_type": "code",
   "execution_count": 5,
   "metadata": {},
   "outputs": [
    {
     "data": {
      "text/html": [
       "<div>\n",
       "<style scoped>\n",
       "    .dataframe tbody tr th:only-of-type {\n",
       "        vertical-align: middle;\n",
       "    }\n",
       "\n",
       "    .dataframe tbody tr th {\n",
       "        vertical-align: top;\n",
       "    }\n",
       "\n",
       "    .dataframe thead th {\n",
       "        text-align: right;\n",
       "    }\n",
       "</style>\n",
       "<table border=\"1\" class=\"dataframe\">\n",
       "  <thead>\n",
       "    <tr style=\"text-align: right;\">\n",
       "      <th></th>\n",
       "      <th>Pos</th>\n",
       "    </tr>\n",
       "    <tr>\n",
       "      <th>Date</th>\n",
       "      <th></th>\n",
       "    </tr>\n",
       "  </thead>\n",
       "  <tbody>\n",
       "    <tr>\n",
       "      <th>18-03-2021</th>\n",
       "      <td>506</td>\n",
       "    </tr>\n",
       "    <tr>\n",
       "      <th>19-03-2021</th>\n",
       "      <td>0</td>\n",
       "    </tr>\n",
       "    <tr>\n",
       "      <th>20-03-2021</th>\n",
       "      <td>392</td>\n",
       "    </tr>\n",
       "    <tr>\n",
       "      <th>21-03-2021</th>\n",
       "      <td>754</td>\n",
       "    </tr>\n",
       "    <tr>\n",
       "      <th>22-03-2021</th>\n",
       "      <td>0</td>\n",
       "    </tr>\n",
       "  </tbody>\n",
       "</table>\n",
       "</div>"
      ],
      "text/plain": [
       "            Pos\n",
       "Date           \n",
       "18-03-2021  506\n",
       "19-03-2021    0\n",
       "20-03-2021  392\n",
       "21-03-2021  754\n",
       "22-03-2021    0"
      ]
     },
     "execution_count": 5,
     "metadata": {},
     "output_type": "execute_result"
    }
   ],
   "source": [
    "data1.set_index('Date',inplace=True)\n",
    "data1.head()"
   ]
  },
  {
   "cell_type": "code",
   "execution_count": 6,
   "metadata": {},
   "outputs": [
    {
     "data": {
      "image/png": "[encoded data removed]",
      "text/plain": [
       "<Figure size 432x288 with 1 Axes>"
      ]
     },
     "metadata": {
      "needs_background": "light"
     },
     "output_type": "display_data"
    }
   ],
   "source": [
    "data1.plot();"
   ]
  },
  {
   "cell_type": "code",
   "execution_count": 7,
   "metadata": {},
   "outputs": [],
   "source": [
    "from statsmodels.tsa.stattools import adfuller"
   ]
  },
  {
   "cell_type": "code",
   "execution_count": 8,
   "metadata": {},
   "outputs": [],
   "source": [
    "# H0: It is non stationary\n",
    "# H1: It is stationary\n",
    "def adfuller_test(Pos):\n",
    "    result = adfuller(Pos)\n",
    "    labels = [\"ADF Test statistics\",\"P-value\",\"#Lags Used\",\"Number of Observation Used\"]\n",
    "    for value,labels in zip(result,labels):\n",
    "        print(labels+' : '+str(value) )\n",
    "    if result[1] <= 0.05:\n",
    "        print(\"Strong evidence against null hypothesis\")\n",
    "    else:\n",
    "        print(\"weak evidence against null hypothesis\")"
   ]
  },
  {
   "cell_type": "code",
   "execution_count": 9,
   "metadata": {},
   "outputs": [
    {
     "name": "stdout",
     "output_type": "stream",
     "text": [
      "ADF Test statistics : -7.172924548393732\n",
      "P-value : 2.774310473655622e-10\n",
      "#Lags Used : 0\n",
      "Number of Observation Used : 33\n",
      "Strong evidence against null hypothesis\n"
     ]
    }
   ],
   "source": [
    "adfuller_test(data1[\"Pos\"])"
   ]
  },
  {
   "cell_type": "code",
   "execution_count": 10,
   "metadata": {},
   "outputs": [],
   "source": [
    "from statsmodels.graphics.tsaplots import plot_acf,plot_pacf \n",
    "import statsmodels.api as sm"
   ]
  },
  {
   "cell_type": "code",
   "execution_count": 11,
   "metadata": {},
   "outputs": [
    {
     "name": "stderr",
     "output_type": "stream",
     "text": [
      "C:\\Users\\asus\\anaconda3\\lib\\site-packages\\statsmodels\\regression\\linear_model.py:1434: RuntimeWarning: invalid value encountered in sqrt\n",
      "  return rho, np.sqrt(sigmasq)\n"
     ]
    },
    {
     "data": {
      "image/png": "[encoded data removed]",
      "text/plain": [
       "<Figure size 864x576 with 2 Axes>"
      ]
     },
     "metadata": {
      "needs_background": "light"
     },
     "output_type": "display_data"
    }
   ],
   "source": [
    "fig = plt.figure(figsize=(12,8))\n",
    "ax1 = fig.add_subplot(211)\n",
    "fig = sm.graphics.tsa.plot_acf(data1['Pos'].iloc[0:],lags=20,ax=ax1)\n",
    "ax2 = fig.add_subplot(212)\n",
    "fig = sm.graphics.tsa.plot_pacf(data1['Pos'].iloc[0:],lags=15,ax=ax2)"
   ]
  },
  {
   "cell_type": "code",
   "execution_count": 12,
   "metadata": {},
   "outputs": [],
   "source": [
    "import pmdarima as pm"
   ]
  },
  {
   "cell_type": "code",
   "execution_count": 13,
   "metadata": {},
   "outputs": [],
   "source": [
    "def arimamodel(df):\n",
    "    automodel=pm.auto_arima(df,start_p=0,start_q=0,max_p=4,max_q=4,test=\"adf\",seasonal=False,trace=True)\n",
    "    return automodel"
   ]
  },
  {
   "cell_type": "code",
   "execution_count": 14,
   "metadata": {},
   "outputs": [
    {
     "name": "stdout",
     "output_type": "stream",
     "text": [
      "Performing stepwise search to minimize aic\n",
      " ARIMA(0,1,0)(0,0,0)[0] intercept   : AIC=496.339, Time=0.01 sec\n",
      " ARIMA(1,1,0)(0,0,0)[0] intercept   : AIC=486.987, Time=0.08 sec\n",
      " ARIMA(0,1,1)(0,0,0)[0] intercept   : AIC=inf, Time=0.06 sec\n",
      " ARIMA(0,1,0)(0,0,0)[0]             : AIC=494.359, Time=0.02 sec\n",
      " ARIMA(2,1,0)(0,0,0)[0] intercept   : AIC=478.090, Time=0.06 sec\n",
      " ARIMA(3,1,0)(0,0,0)[0] intercept   : AIC=477.342, Time=0.21 sec\n",
      " ARIMA(4,1,0)(0,0,0)[0] intercept   : AIC=473.971, Time=0.04 sec\n",
      " ARIMA(4,1,1)(0,0,0)[0] intercept   : AIC=475.693, Time=0.15 sec\n",
      " ARIMA(3,1,1)(0,0,0)[0] intercept   : AIC=inf, Time=0.37 sec\n",
      " ARIMA(4,1,0)(0,0,0)[0]             : AIC=471.977, Time=0.06 sec\n",
      " ARIMA(3,1,0)(0,0,0)[0]             : AIC=475.349, Time=0.04 sec\n",
      " ARIMA(4,1,1)(0,0,0)[0]             : AIC=473.699, Time=0.12 sec\n",
      " ARIMA(3,1,1)(0,0,0)[0]             : AIC=472.587, Time=0.30 sec\n",
      "\n",
      "Best model:  ARIMA(4,1,0)(0,0,0)[0]          \n",
      "Total fit time: 1.530 seconds\n"
     ]
    },
    {
     "data": {
      "text/plain": [
       "ARIMA(order=(4, 1, 0), scoring_args={}, suppress_warnings=True,\n",
       "      with_intercept=False)"
      ]
     },
     "execution_count": 14,
     "metadata": {},
     "output_type": "execute_result"
    }
   ],
   "source": [
    "arimamodel(data1[\"Pos\"])"
   ]
  },
  {
   "cell_type": "code",
   "execution_count": 15,
   "metadata": {},
   "outputs": [],
   "source": [
    "from statsmodels.tsa.arima_model import ARIMA"
   ]
  },
  {
   "cell_type": "code",
   "execution_count": 16,
   "metadata": {},
   "outputs": [
    {
     "name": "stderr",
     "output_type": "stream",
     "text": [
      "C:\\Users\\asus\\anaconda3\\lib\\site-packages\\statsmodels\\tsa\\arima_model.py:472: FutureWarning: \n",
      "statsmodels.tsa.arima_model.ARMA and statsmodels.tsa.arima_model.ARIMA have\n",
      "been deprecated in favor of statsmodels.tsa.arima.model.ARIMA (note the .\n",
      "between arima and model) and\n",
      "statsmodels.tsa.SARIMAX. These will be removed after the 0.12 release.\n",
      "\n",
      "statsmodels.tsa.arima.model.ARIMA makes use of the statespace framework and\n",
      "is both well tested and maintained.\n",
      "\n",
      "To silence this warning and continue using ARMA and ARIMA until they are\n",
      "removed, use:\n",
      "\n",
      "import warnings\n",
      "warnings.filterwarnings('ignore', 'statsmodels.tsa.arima_model.ARMA',\n",
      "                        FutureWarning)\n",
      "warnings.filterwarnings('ignore', 'statsmodels.tsa.arima_model.ARIMA',\n",
      "                        FutureWarning)\n",
      "\n",
      "  warnings.warn(ARIMA_DEPRECATION_WARN, FutureWarning)\n",
      "C:\\Users\\asus\\anaconda3\\lib\\site-packages\\statsmodels\\tsa\\base\\tsa_model.py:581: ValueWarning: A date index has been provided, but it has no associated frequency information and so will be ignored when e.g. forecasting.\n",
      "  warnings.warn('A date index has been provided, but it has no'\n",
      "C:\\Users\\asus\\anaconda3\\lib\\site-packages\\statsmodels\\tsa\\base\\tsa_model.py:585: ValueWarning: A date index has been provided, but it is not monotonic and so will be ignored when e.g. forecasting.\n",
      "  warnings.warn('A date index has been provided, but it is not'\n",
      "C:\\Users\\asus\\anaconda3\\lib\\site-packages\\statsmodels\\tsa\\base\\tsa_model.py:581: ValueWarning: A date index has been provided, but it has no associated frequency information and so will be ignored when e.g. forecasting.\n",
      "  warnings.warn('A date index has been provided, but it has no'\n",
      "C:\\Users\\asus\\anaconda3\\lib\\site-packages\\statsmodels\\tsa\\base\\tsa_model.py:585: ValueWarning: A date index has been provided, but it is not monotonic and so will be ignored when e.g. forecasting.\n",
      "  warnings.warn('A date index has been provided, but it is not'\n"
     ]
    }
   ],
   "source": [
    "model = ARIMA(data1['Pos'],order=(4,1,0))\n",
    "model_fit1=model.fit()"
   ]
  },
  {
   "cell_type": "code",
   "execution_count": 17,
   "metadata": {},
   "outputs": [
    {
     "data": {
      "text/html": [
       "<table class=\"simpletable\">\n",
       "<caption>ARIMA Model Results</caption>\n",
       "<tr>\n",
       "  <th>Dep. Variable:</th>       <td>D.Pos</td>      <th>  No. Observations:  </th>    <td>33</td>   \n",
       "</tr>\n",
       "<tr>\n",
       "  <th>Model:</th>          <td>ARIMA(4, 1, 0)</td>  <th>  Log Likelihood     </th> <td>-231.090</td>\n",
       "</tr>\n",
       "<tr>\n",
       "  <th>Method:</th>             <td>css-mle</td>     <th>  S.D. of innovations</th>  <td>258.156</td>\n",
       "</tr>\n",
       "<tr>\n",
       "  <th>Date:</th>          <td>Sat, 01 May 2021</td> <th>  AIC                </th>  <td>474.180</td>\n",
       "</tr>\n",
       "<tr>\n",
       "  <th>Time:</th>              <td>10:07:56</td>     <th>  BIC                </th>  <td>483.160</td>\n",
       "</tr>\n",
       "<tr>\n",
       "  <th>Sample:</th>                <td>1</td>        <th>  HQIC               </th>  <td>477.202</td>\n",
       "</tr>\n",
       "<tr>\n",
       "  <th></th>                       <td> </td>        <th>                     </th>     <td> </td>   \n",
       "</tr>\n",
       "</table>\n",
       "<table class=\"simpletable\">\n",
       "<tr>\n",
       "       <td></td>          <th>coef</th>     <th>std err</th>      <th>z</th>      <th>P>|z|</th>  <th>[0.025</th>    <th>0.975]</th>  \n",
       "</tr>\n",
       "<tr>\n",
       "  <th>const</th>       <td>   -1.0050</td> <td>   11.062</td> <td>   -0.091</td> <td> 0.928</td> <td>  -22.686</td> <td>   20.676</td>\n",
       "</tr>\n",
       "<tr>\n",
       "  <th>ar.L1.D.Pos</th> <td>   -1.0957</td> <td>    0.159</td> <td>   -6.899</td> <td> 0.000</td> <td>   -1.407</td> <td>   -0.784</td>\n",
       "</tr>\n",
       "<tr>\n",
       "  <th>ar.L2.D.Pos</th> <td>   -1.0803</td> <td>    0.219</td> <td>   -4.934</td> <td> 0.000</td> <td>   -1.510</td> <td>   -0.651</td>\n",
       "</tr>\n",
       "<tr>\n",
       "  <th>ar.L3.D.Pos</th> <td>   -0.6967</td> <td>    0.224</td> <td>   -3.107</td> <td> 0.002</td> <td>   -1.136</td> <td>   -0.257</td>\n",
       "</tr>\n",
       "<tr>\n",
       "  <th>ar.L4.D.Pos</th> <td>   -0.4107</td> <td>    0.167</td> <td>   -2.463</td> <td> 0.014</td> <td>   -0.738</td> <td>   -0.084</td>\n",
       "</tr>\n",
       "</table>\n",
       "<table class=\"simpletable\">\n",
       "<caption>Roots</caption>\n",
       "<tr>\n",
       "    <td></td>   <th>            Real</th>  <th>         Imaginary</th> <th>         Modulus</th>  <th>        Frequency</th>\n",
       "</tr>\n",
       "<tr>\n",
       "  <th>AR.1</th> <td>           0.1259</td> <td>          -1.2466j</td> <td>           1.2530</td> <td>          -0.2340</td>\n",
       "</tr>\n",
       "<tr>\n",
       "  <th>AR.2</th> <td>           0.1259</td> <td>          +1.2466j</td> <td>           1.2530</td> <td>           0.2340</td>\n",
       "</tr>\n",
       "<tr>\n",
       "  <th>AR.3</th> <td>          -0.9741</td> <td>          -0.7760j</td> <td>           1.2454</td> <td>          -0.3929</td>\n",
       "</tr>\n",
       "<tr>\n",
       "  <th>AR.4</th> <td>          -0.9741</td> <td>          +0.7760j</td> <td>           1.2454</td> <td>           0.3929</td>\n",
       "</tr>\n",
       "</table>"
      ],
      "text/plain": [
       "<class 'statsmodels.iolib.summary.Summary'>\n",
       "\"\"\"\n",
       "                             ARIMA Model Results                              \n",
       "==============================================================================\n",
       "Dep. Variable:                  D.Pos   No. Observations:                   33\n",
       "Model:                 ARIMA(4, 1, 0)   Log Likelihood                -231.090\n",
       "Method:                       css-mle   S.D. of innovations            258.156\n",
       "Date:                Sat, 01 May 2021   AIC                            474.180\n",
       "Time:                        10:07:56   BIC                            483.160\n",
       "Sample:                             1   HQIC                           477.202\n",
       "                                                                              \n",
       "===============================================================================\n",
       "                  coef    std err          z      P>|z|      [0.025      0.975]\n",
       "-------------------------------------------------------------------------------\n",
       "const          -1.0050     11.062     -0.091      0.928     -22.686      20.676\n",
       "ar.L1.D.Pos    -1.0957      0.159     -6.899      0.000      -1.407      -0.784\n",
       "ar.L2.D.Pos    -1.0803      0.219     -4.934      0.000      -1.510      -0.651\n",
       "ar.L3.D.Pos    -0.6967      0.224     -3.107      0.002      -1.136      -0.257\n",
       "ar.L4.D.Pos    -0.4107      0.167     -2.463      0.014      -0.738      -0.084\n",
       "                                    Roots                                    \n",
       "=============================================================================\n",
       "                  Real          Imaginary           Modulus         Frequency\n",
       "-----------------------------------------------------------------------------\n",
       "AR.1            0.1259           -1.2466j            1.2530           -0.2340\n",
       "AR.2            0.1259           +1.2466j            1.2530            0.2340\n",
       "AR.3           -0.9741           -0.7760j            1.2454           -0.3929\n",
       "AR.4           -0.9741           +0.7760j            1.2454            0.3929\n",
       "-----------------------------------------------------------------------------\n",
       "\"\"\""
      ]
     },
     "execution_count": 17,
     "metadata": {},
     "output_type": "execute_result"
    }
   ],
   "source": [
    "model_fit1.summary()"
   ]
  },
  {
   "cell_type": "code",
   "execution_count": 18,
   "metadata": {},
   "outputs": [
    {
     "name": "stderr",
     "output_type": "stream",
     "text": [
      "<ipython-input-18-775a41f2f878>:1: SettingWithCopyWarning: \n",
      "A value is trying to be set on a copy of a slice from a DataFrame.\n",
      "Try using .loc[row_indexer,col_indexer] = value instead\n",
      "\n",
      "See the caveats in the documentation: https://pandas.pydata.org/pandas-docs/stable/user_guide/indexing.html#returning-a-view-versus-a-copy\n",
      "  data1['forecast']=model_fit1.predict(start=1,end=33, dynamic=False)\n"
     ]
    },
    {
     "data": {
      "image/png": "[encoded data removed]",
      "text/plain": [
       "<Figure size 864x576 with 1 Axes>"
      ]
     },
     "metadata": {
      "needs_background": "light"
     },
     "output_type": "display_data"
    }
   ],
   "source": [
    "data1['forecast']=model_fit1.predict(start=1,end=33, dynamic=False)\n",
    "#pd.Series(model_fit1.fittedvalues,copy=True)\n",
    "data1[['Pos','forecast']].plot(figsize=(12,8));"
   ]
  },
  {
   "cell_type": "code",
   "execution_count": 19,
   "metadata": {},
   "outputs": [],
   "source": [
    "Positive = model_fit1.forecast(steps=10)[0]"
   ]
  },
  {
   "cell_type": "code",
   "execution_count": 20,
   "metadata": {},
   "outputs": [
    {
     "data": {
      "text/plain": [
       "array([356.97828313, 365.2086339 , 358.87925946, 205.31137367,\n",
       "       291.53411825, 359.68517523, 297.14781657, 290.73969215,\n",
       "       278.12379846, 310.14620252])"
      ]
     },
     "execution_count": 20,
     "metadata": {},
     "output_type": "execute_result"
    }
   ],
   "source": [
    "Positive"
   ]
  },
  {
   "cell_type": "markdown",
   "metadata": {},
   "source": [
    "# Neg Time Series"
   ]
  },
  {
   "cell_type": "code",
   "execution_count": 21,
   "metadata": {},
   "outputs": [],
   "source": [
    "data2 = data.iloc[:,[0,3]]"
   ]
  },
  {
   "cell_type": "code",
   "execution_count": 22,
   "metadata": {},
   "outputs": [
    {
     "data": {
      "text/html": [
       "<div>\n",
       "<style scoped>\n",
       "    .dataframe tbody tr th:only-of-type {\n",
       "        vertical-align: middle;\n",
       "    }\n",
       "\n",
       "    .dataframe tbody tr th {\n",
       "        vertical-align: top;\n",
       "    }\n",
       "\n",
       "    .dataframe thead th {\n",
       "        text-align: right;\n",
       "    }\n",
       "</style>\n",
       "<table border=\"1\" class=\"dataframe\">\n",
       "  <thead>\n",
       "    <tr style=\"text-align: right;\">\n",
       "      <th></th>\n",
       "      <th>Neg</th>\n",
       "    </tr>\n",
       "    <tr>\n",
       "      <th>Date</th>\n",
       "      <th></th>\n",
       "    </tr>\n",
       "  </thead>\n",
       "  <tbody>\n",
       "    <tr>\n",
       "      <th>18-03-2021</th>\n",
       "      <td>88</td>\n",
       "    </tr>\n",
       "    <tr>\n",
       "      <th>19-03-2021</th>\n",
       "      <td>0</td>\n",
       "    </tr>\n",
       "    <tr>\n",
       "      <th>20-03-2021</th>\n",
       "      <td>88</td>\n",
       "    </tr>\n",
       "    <tr>\n",
       "      <th>21-03-2021</th>\n",
       "      <td>10</td>\n",
       "    </tr>\n",
       "    <tr>\n",
       "      <th>22-03-2021</th>\n",
       "      <td>0</td>\n",
       "    </tr>\n",
       "  </tbody>\n",
       "</table>\n",
       "</div>"
      ],
      "text/plain": [
       "            Neg\n",
       "Date           \n",
       "18-03-2021   88\n",
       "19-03-2021    0\n",
       "20-03-2021   88\n",
       "21-03-2021   10\n",
       "22-03-2021    0"
      ]
     },
     "execution_count": 22,
     "metadata": {},
     "output_type": "execute_result"
    }
   ],
   "source": [
    "data2.set_index('Date',inplace=True)\n",
    "data2.head()"
   ]
  },
  {
   "cell_type": "code",
   "execution_count": 23,
   "metadata": {},
   "outputs": [
    {
     "data": {
      "image/png": "[encoded data removed]",
      "text/plain": [
       "<Figure size 432x288 with 1 Axes>"
      ]
     },
     "metadata": {
      "needs_background": "light"
     },
     "output_type": "display_data"
    }
   ],
   "source": [
    "data2.plot();"
   ]
  },
  {
   "cell_type": "code",
   "execution_count": 24,
   "metadata": {},
   "outputs": [],
   "source": [
    "from statsmodels.tsa.stattools import adfuller"
   ]
  },
  {
   "cell_type": "code",
   "execution_count": 25,
   "metadata": {},
   "outputs": [],
   "source": [
    "# H0: It is non stationary\n",
    "# H1: It is stationary\n",
    "def adfuller_test(Neg):\n",
    "    result = adfuller(Neg)\n",
    "    labels = [\"ADF Test statistics\",\"P-value\",\"#Lags Used\",\"Number of Observation Used\"]\n",
    "    for value,labels in zip(result,labels):\n",
    "        print(labels+' : '+str(value) )\n",
    "    if result[1] <= 0.05:\n",
    "        print(\"Strong evidence against null hypothesis\")\n",
    "    else:\n",
    "        print(\"weak evidence against null hypothesis\")"
   ]
  },
  {
   "cell_type": "code",
   "execution_count": 26,
   "metadata": {},
   "outputs": [
    {
     "name": "stdout",
     "output_type": "stream",
     "text": [
      "ADF Test statistics : 2.8362612369974447\n",
      "P-value : 1.0\n",
      "#Lags Used : 10\n",
      "Number of Observation Used : 23\n",
      "weak evidence against null hypothesis\n"
     ]
    }
   ],
   "source": [
    "adfuller_test(data2[\"Neg\"])"
   ]
  },
  {
   "cell_type": "code",
   "execution_count": 27,
   "metadata": {},
   "outputs": [
    {
     "name": "stderr",
     "output_type": "stream",
     "text": [
      "<ipython-input-27-0fa6d72db0bc>:1: SettingWithCopyWarning: \n",
      "A value is trying to be set on a copy of a slice from a DataFrame.\n",
      "Try using .loc[row_indexer,col_indexer] = value instead\n",
      "\n",
      "See the caveats in the documentation: https://pandas.pydata.org/pandas-docs/stable/user_guide/indexing.html#returning-a-view-versus-a-copy\n",
      "  data2['Neg_First_Difference'] = data2['Neg']-data2['Neg'].shift(1)\n"
     ]
    }
   ],
   "source": [
    "data2['Neg_First_Difference'] = data2['Neg']-data2['Neg'].shift(1)\n",
    "#data2['Neg'].shift(1)"
   ]
  },
  {
   "cell_type": "code",
   "execution_count": 28,
   "metadata": {},
   "outputs": [
    {
     "name": "stdout",
     "output_type": "stream",
     "text": [
      "ADF Test statistics : 2.5857254811611696\n",
      "P-value : 0.9990723782047033\n",
      "#Lags Used : 10\n",
      "Number of Observation Used : 22\n",
      "weak evidence against null hypothesis\n"
     ]
    }
   ],
   "source": [
    "# Again test dickey fuller test\n",
    "adfuller_test(data2['Neg_First_Difference'].dropna())"
   ]
  },
  {
   "cell_type": "code",
   "execution_count": 29,
   "metadata": {},
   "outputs": [],
   "source": [
    "from statsmodels.graphics.tsaplots import plot_acf,plot_pacf \n",
    "import statsmodels.api as sm"
   ]
  },
  {
   "cell_type": "code",
   "execution_count": 30,
   "metadata": {},
   "outputs": [
    {
     "data": {
      "image/png": "[encoded data removed]",
      "text/plain": [
       "<Figure size 864x576 with 2 Axes>"
      ]
     },
     "metadata": {
      "needs_background": "light"
     },
     "output_type": "display_data"
    }
   ],
   "source": [
    "fig = plt.figure(figsize=(12,8))\n",
    "ax1 = fig.add_subplot(211)\n",
    "fig = sm.graphics.tsa.plot_acf(data2['Neg_First_Difference'].dropna().iloc[0:],lags=10,ax=ax1)\n",
    "ax2 = fig.add_subplot(212)\n",
    "fig = sm.graphics.tsa.plot_pacf(data2['Neg_First_Difference'].dropna().iloc[0:],lags=10,ax=ax2)"
   ]
  },
  {
   "cell_type": "code",
   "execution_count": 31,
   "metadata": {},
   "outputs": [],
   "source": [
    "def arimamodel(df):\n",
    "    automodel=pm.auto_arima(df,start_p=0,start_q=0,max_p=4,max_q=4,test=\"adf\",seasonal=False,trace=True)\n",
    "    return automodel"
   ]
  },
  {
   "cell_type": "code",
   "execution_count": 32,
   "metadata": {},
   "outputs": [
    {
     "name": "stdout",
     "output_type": "stream",
     "text": [
      "Performing stepwise search to minimize aic\n",
      " ARIMA(0,2,0)(0,0,0)[0] intercept   : AIC=462.798, Time=0.01 sec\n",
      " ARIMA(1,2,0)(0,0,0)[0] intercept   : AIC=414.872, Time=0.04 sec\n",
      " ARIMA(0,2,1)(0,0,0)[0] intercept   : AIC=inf, Time=0.10 sec\n",
      " ARIMA(0,2,0)(0,0,0)[0]             : AIC=460.811, Time=0.02 sec\n",
      " ARIMA(2,2,0)(0,0,0)[0] intercept   : AIC=411.789, Time=0.10 sec\n",
      " ARIMA(3,2,0)(0,0,0)[0] intercept   : AIC=409.442, Time=0.28 sec\n",
      " ARIMA(4,2,0)(0,0,0)[0] intercept   : AIC=408.354, Time=0.25 sec\n",
      " ARIMA(4,2,1)(0,0,0)[0] intercept   : AIC=409.877, Time=0.42 sec\n",
      " ARIMA(3,2,1)(0,0,0)[0] intercept   : AIC=408.882, Time=0.34 sec\n",
      " ARIMA(4,2,0)(0,0,0)[0]             : AIC=407.898, Time=0.17 sec\n",
      " ARIMA(3,2,0)(0,0,0)[0]             : AIC=408.209, Time=0.10 sec\n",
      " ARIMA(4,2,1)(0,0,0)[0]             : AIC=409.339, Time=0.29 sec\n",
      " ARIMA(3,2,1)(0,0,0)[0]             : AIC=408.539, Time=0.17 sec\n",
      "\n",
      "Best model:  ARIMA(4,2,0)(0,0,0)[0]          \n",
      "Total fit time: 2.330 seconds\n"
     ]
    },
    {
     "data": {
      "text/plain": [
       "ARIMA(order=(4, 2, 0), scoring_args={}, suppress_warnings=True,\n",
       "      with_intercept=False)"
      ]
     },
     "execution_count": 32,
     "metadata": {},
     "output_type": "execute_result"
    }
   ],
   "source": [
    "arimamodel(data2[\"Neg\"])"
   ]
  },
  {
   "cell_type": "code",
   "execution_count": 33,
   "metadata": {},
   "outputs": [],
   "source": [
    "from statsmodels.tsa.arima_model import ARIMA"
   ]
  },
  {
   "cell_type": "code",
   "execution_count": 34,
   "metadata": {},
   "outputs": [
    {
     "name": "stderr",
     "output_type": "stream",
     "text": [
      "C:\\Users\\asus\\anaconda3\\lib\\site-packages\\statsmodels\\tsa\\arima_model.py:472: FutureWarning: \n",
      "statsmodels.tsa.arima_model.ARMA and statsmodels.tsa.arima_model.ARIMA have\n",
      "been deprecated in favor of statsmodels.tsa.arima.model.ARIMA (note the .\n",
      "between arima and model) and\n",
      "statsmodels.tsa.SARIMAX. These will be removed after the 0.12 release.\n",
      "\n",
      "statsmodels.tsa.arima.model.ARIMA makes use of the statespace framework and\n",
      "is both well tested and maintained.\n",
      "\n",
      "To silence this warning and continue using ARMA and ARIMA until they are\n",
      "removed, use:\n",
      "\n",
      "import warnings\n",
      "warnings.filterwarnings('ignore', 'statsmodels.tsa.arima_model.ARMA',\n",
      "                        FutureWarning)\n",
      "warnings.filterwarnings('ignore', 'statsmodels.tsa.arima_model.ARIMA',\n",
      "                        FutureWarning)\n",
      "\n",
      "  warnings.warn(ARIMA_DEPRECATION_WARN, FutureWarning)\n",
      "C:\\Users\\asus\\anaconda3\\lib\\site-packages\\statsmodels\\tsa\\base\\tsa_model.py:581: ValueWarning: A date index has been provided, but it has no associated frequency information and so will be ignored when e.g. forecasting.\n",
      "  warnings.warn('A date index has been provided, but it has no'\n",
      "C:\\Users\\asus\\anaconda3\\lib\\site-packages\\statsmodels\\tsa\\base\\tsa_model.py:585: ValueWarning: A date index has been provided, but it is not monotonic and so will be ignored when e.g. forecasting.\n",
      "  warnings.warn('A date index has been provided, but it is not'\n",
      "C:\\Users\\asus\\anaconda3\\lib\\site-packages\\statsmodels\\tsa\\base\\tsa_model.py:581: ValueWarning: A date index has been provided, but it has no associated frequency information and so will be ignored when e.g. forecasting.\n",
      "  warnings.warn('A date index has been provided, but it has no'\n",
      "C:\\Users\\asus\\anaconda3\\lib\\site-packages\\statsmodels\\tsa\\base\\tsa_model.py:585: ValueWarning: A date index has been provided, but it is not monotonic and so will be ignored when e.g. forecasting.\n",
      "  warnings.warn('A date index has been provided, but it is not'\n",
      "C:\\Users\\asus\\anaconda3\\lib\\site-packages\\statsmodels\\base\\model.py:547: HessianInversionWarning: Inverting hessian failed, no bse or cov_params available\n",
      "  warnings.warn('Inverting hessian failed, no bse or cov_params '\n",
      "C:\\Users\\asus\\anaconda3\\lib\\site-packages\\statsmodels\\base\\model.py:566: ConvergenceWarning: Maximum Likelihood optimization failed to converge. Check mle_retvals\n",
      "  warnings.warn(\"Maximum Likelihood optimization failed to \"\n"
     ]
    }
   ],
   "source": [
    "model = ARIMA(data2['Neg'],order=(4,2,0))\n",
    "model_fit2=model.fit()"
   ]
  },
  {
   "cell_type": "code",
   "execution_count": 35,
   "metadata": {},
   "outputs": [
    {
     "name": "stderr",
     "output_type": "stream",
     "text": [
      "C:\\Users\\asus\\anaconda3\\lib\\site-packages\\statsmodels\\tsa\\arima_model.py:1521: RuntimeWarning: invalid value encountered in sqrt\n",
      "  return np.sqrt(np.diag(-inv(hess)))\n"
     ]
    },
    {
     "data": {
      "text/html": [
       "<table class=\"simpletable\">\n",
       "<caption>ARIMA Model Results</caption>\n",
       "<tr>\n",
       "  <th>Dep. Variable:</th>      <td>D2.Neg</td>      <th>  No. Observations:  </th>    <td>32</td>   \n",
       "</tr>\n",
       "<tr>\n",
       "  <th>Model:</th>          <td>ARIMA(4, 2, 0)</td>  <th>  Log Likelihood     </th> <td>-205.143</td>\n",
       "</tr>\n",
       "<tr>\n",
       "  <th>Method:</th>             <td>css-mle</td>     <th>  S.D. of innovations</th>  <td>111.922</td>\n",
       "</tr>\n",
       "<tr>\n",
       "  <th>Date:</th>          <td>Sat, 01 May 2021</td> <th>  AIC                </th>  <td>422.286</td>\n",
       "</tr>\n",
       "<tr>\n",
       "  <th>Time:</th>              <td>10:08:53</td>     <th>  BIC                </th>  <td>431.080</td>\n",
       "</tr>\n",
       "<tr>\n",
       "  <th>Sample:</th>                <td>2</td>        <th>  HQIC               </th>  <td>425.201</td>\n",
       "</tr>\n",
       "<tr>\n",
       "  <th></th>                       <td> </td>        <th>                     </th>     <td> </td>   \n",
       "</tr>\n",
       "</table>\n",
       "<table class=\"simpletable\">\n",
       "<tr>\n",
       "        <td></td>          <th>coef</th>     <th>std err</th>      <th>z</th>      <th>P>|z|</th>  <th>[0.025</th>    <th>0.975]</th>  \n",
       "</tr>\n",
       "<tr>\n",
       "  <th>const</th>        <td>    5.7534</td> <td>      nan</td> <td>      nan</td> <td>   nan</td> <td>      nan</td> <td>      nan</td>\n",
       "</tr>\n",
       "<tr>\n",
       "  <th>ar.L1.D2.Neg</th> <td>   -1.6175</td> <td>  2.4e-05</td> <td>-6.74e+04</td> <td> 0.000</td> <td>   -1.618</td> <td>   -1.617</td>\n",
       "</tr>\n",
       "<tr>\n",
       "  <th>ar.L2.D2.Neg</th> <td>   -1.1409</td> <td> 2.33e-05</td> <td> -4.9e+04</td> <td> 0.000</td> <td>   -1.141</td> <td>   -1.141</td>\n",
       "</tr>\n",
       "<tr>\n",
       "  <th>ar.L3.D2.Neg</th> <td>   -0.8166</td> <td> 1.36e-05</td> <td>-6.03e+04</td> <td> 0.000</td> <td>   -0.817</td> <td>   -0.817</td>\n",
       "</tr>\n",
       "<tr>\n",
       "  <th>ar.L4.D2.Neg</th> <td>   -0.2932</td> <td> 2.73e-06</td> <td>-1.07e+05</td> <td> 0.000</td> <td>   -0.293</td> <td>   -0.293</td>\n",
       "</tr>\n",
       "</table>\n",
       "<table class=\"simpletable\">\n",
       "<caption>Roots</caption>\n",
       "<tr>\n",
       "    <td></td>   <th>            Real</th>  <th>         Imaginary</th> <th>         Modulus</th>  <th>        Frequency</th>\n",
       "</tr>\n",
       "<tr>\n",
       "  <th>AR.1</th> <td>          -0.0346</td> <td>          -1.4094j</td> <td>           1.4098</td> <td>          -0.2539</td>\n",
       "</tr>\n",
       "<tr>\n",
       "  <th>AR.2</th> <td>          -0.0346</td> <td>          +1.4094j</td> <td>           1.4098</td> <td>           0.2539</td>\n",
       "</tr>\n",
       "<tr>\n",
       "  <th>AR.3</th> <td>          -1.0000</td> <td>          -0.0000j</td> <td>           1.0000</td> <td>          -0.5000</td>\n",
       "</tr>\n",
       "<tr>\n",
       "  <th>AR.4</th> <td>          -1.7161</td> <td>          -0.0000j</td> <td>           1.7161</td> <td>          -0.5000</td>\n",
       "</tr>\n",
       "</table>"
      ],
      "text/plain": [
       "<class 'statsmodels.iolib.summary.Summary'>\n",
       "\"\"\"\n",
       "                             ARIMA Model Results                              \n",
       "==============================================================================\n",
       "Dep. Variable:                 D2.Neg   No. Observations:                   32\n",
       "Model:                 ARIMA(4, 2, 0)   Log Likelihood                -205.143\n",
       "Method:                       css-mle   S.D. of innovations            111.922\n",
       "Date:                Sat, 01 May 2021   AIC                            422.286\n",
       "Time:                        10:08:53   BIC                            431.080\n",
       "Sample:                             2   HQIC                           425.201\n",
       "                                                                              \n",
       "================================================================================\n",
       "                   coef    std err          z      P>|z|      [0.025      0.975]\n",
       "--------------------------------------------------------------------------------\n",
       "const            5.7534        nan        nan        nan         nan         nan\n",
       "ar.L1.D2.Neg    -1.6175    2.4e-05  -6.74e+04      0.000      -1.618      -1.617\n",
       "ar.L2.D2.Neg    -1.1409   2.33e-05   -4.9e+04      0.000      -1.141      -1.141\n",
       "ar.L3.D2.Neg    -0.8166   1.36e-05  -6.03e+04      0.000      -0.817      -0.817\n",
       "ar.L4.D2.Neg    -0.2932   2.73e-06  -1.07e+05      0.000      -0.293      -0.293\n",
       "                                    Roots                                    \n",
       "=============================================================================\n",
       "                  Real          Imaginary           Modulus         Frequency\n",
       "-----------------------------------------------------------------------------\n",
       "AR.1           -0.0346           -1.4094j            1.4098           -0.2539\n",
       "AR.2           -0.0346           +1.4094j            1.4098            0.2539\n",
       "AR.3           -1.0000           -0.0000j            1.0000           -0.5000\n",
       "AR.4           -1.7161           -0.0000j            1.7161           -0.5000\n",
       "-----------------------------------------------------------------------------\n",
       "\"\"\""
      ]
     },
     "execution_count": 35,
     "metadata": {},
     "output_type": "execute_result"
    }
   ],
   "source": [
    "model_fit2.summary()"
   ]
  },
  {
   "cell_type": "code",
   "execution_count": 36,
   "metadata": {},
   "outputs": [
    {
     "name": "stderr",
     "output_type": "stream",
     "text": [
      "<ipython-input-36-de8c313b82e8>:1: SettingWithCopyWarning: \n",
      "A value is trying to be set on a copy of a slice from a DataFrame.\n",
      "Try using .loc[row_indexer,col_indexer] = value instead\n",
      "\n",
      "See the caveats in the documentation: https://pandas.pydata.org/pandas-docs/stable/user_guide/indexing.html#returning-a-view-versus-a-copy\n",
      "  data2['forecast']=model_fit2.predict(start=2,end=33, dynamic=False)\n"
     ]
    },
    {
     "data": {
      "image/png": "[encoded data removed]",
      "text/plain": [
       "<Figure size 864x576 with 1 Axes>"
      ]
     },
     "metadata": {
      "needs_background": "light"
     },
     "output_type": "display_data"
    }
   ],
   "source": [
    "data2['forecast']=model_fit2.predict(start=2,end=33, dynamic=False)\n",
    "#pd.Series(model_fit3.fittedvalues,copy=True)\n",
    "data2[['Neg','forecast']].plot(figsize=(12,8));"
   ]
  },
  {
   "cell_type": "code",
   "execution_count": 37,
   "metadata": {},
   "outputs": [],
   "source": [
    "Negative = model_fit2.forecast(steps=10)[0]"
   ]
  },
  {
   "cell_type": "code",
   "execution_count": 38,
   "metadata": {},
   "outputs": [
    {
     "data": {
      "text/plain": [
       "array([1236.15452354,  919.48350922, 1595.11836034, 1296.7685297 ,\n",
       "       1990.67890472, 1695.80404657, 2400.64050468, 2119.85047861,\n",
       "       2837.26048786, 2566.13952526])"
      ]
     },
     "execution_count": 38,
     "metadata": {},
     "output_type": "execute_result"
    }
   ],
   "source": [
    "Negative"
   ]
  },
  {
   "cell_type": "markdown",
   "metadata": {},
   "source": [
    "# Neu Time Series"
   ]
  },
  {
   "cell_type": "code",
   "execution_count": 39,
   "metadata": {},
   "outputs": [],
   "source": [
    "data3 = data.iloc[:,[0,4]]"
   ]
  },
  {
   "cell_type": "code",
   "execution_count": 40,
   "metadata": {},
   "outputs": [
    {
     "data": {
      "text/html": [
       "<div>\n",
       "<style scoped>\n",
       "    .dataframe tbody tr th:only-of-type {\n",
       "        vertical-align: middle;\n",
       "    }\n",
       "\n",
       "    .dataframe tbody tr th {\n",
       "        vertical-align: top;\n",
       "    }\n",
       "\n",
       "    .dataframe thead th {\n",
       "        text-align: right;\n",
       "    }\n",
       "</style>\n",
       "<table border=\"1\" class=\"dataframe\">\n",
       "  <thead>\n",
       "    <tr style=\"text-align: right;\">\n",
       "      <th></th>\n",
       "      <th>Neu</th>\n",
       "    </tr>\n",
       "    <tr>\n",
       "      <th>Date</th>\n",
       "      <th></th>\n",
       "    </tr>\n",
       "  </thead>\n",
       "  <tbody>\n",
       "    <tr>\n",
       "      <th>18-03-2021</th>\n",
       "      <td>406</td>\n",
       "    </tr>\n",
       "    <tr>\n",
       "      <th>19-03-2021</th>\n",
       "      <td>0</td>\n",
       "    </tr>\n",
       "    <tr>\n",
       "      <th>20-03-2021</th>\n",
       "      <td>520</td>\n",
       "    </tr>\n",
       "    <tr>\n",
       "      <th>21-03-2021</th>\n",
       "      <td>236</td>\n",
       "    </tr>\n",
       "    <tr>\n",
       "      <th>22-03-2021</th>\n",
       "      <td>0</td>\n",
       "    </tr>\n",
       "  </tbody>\n",
       "</table>\n",
       "</div>"
      ],
      "text/plain": [
       "            Neu\n",
       "Date           \n",
       "18-03-2021  406\n",
       "19-03-2021    0\n",
       "20-03-2021  520\n",
       "21-03-2021  236\n",
       "22-03-2021    0"
      ]
     },
     "execution_count": 40,
     "metadata": {},
     "output_type": "execute_result"
    }
   ],
   "source": [
    "data3.set_index('Date',inplace=True)\n",
    "data3.head()"
   ]
  },
  {
   "cell_type": "code",
   "execution_count": 41,
   "metadata": {},
   "outputs": [
    {
     "data": {
      "image/png": "[encoded data removed]",
      "text/plain": [
       "<Figure size 432x288 with 1 Axes>"
      ]
     },
     "metadata": {
      "needs_background": "light"
     },
     "output_type": "display_data"
    }
   ],
   "source": [
    "data3.plot();"
   ]
  },
  {
   "cell_type": "code",
   "execution_count": 42,
   "metadata": {},
   "outputs": [],
   "source": [
    "from statsmodels.tsa.stattools import adfuller"
   ]
  },
  {
   "cell_type": "code",
   "execution_count": 43,
   "metadata": {},
   "outputs": [],
   "source": [
    "# H0: It is non stationary\n",
    "# H1: It is stationary\n",
    "def adfuller_test(Neg):\n",
    "    result = adfuller(Neg)\n",
    "    labels = [\"ADF Test statistics\",\"P-value\",\"#Lags Used\",\"Number of Observation Used\"]\n",
    "    for value,labels in zip(result,labels):\n",
    "        print(labels+' : '+str(value) )\n",
    "    if result[1] <= 0.05:\n",
    "        print(\"Strong evidence against null hypothesis\")\n",
    "    else:\n",
    "        print(\"weak evidence against null hypothesis\")"
   ]
  },
  {
   "cell_type": "code",
   "execution_count": 44,
   "metadata": {},
   "outputs": [
    {
     "name": "stdout",
     "output_type": "stream",
     "text": [
      "ADF Test statistics : -3.4097141425017634\n",
      "P-value : 0.010632141226616595\n",
      "#Lags Used : 5\n",
      "Number of Observation Used : 28\n",
      "Strong evidence against null hypothesis\n"
     ]
    }
   ],
   "source": [
    "adfuller_test(data3[\"Neu\"])"
   ]
  },
  {
   "cell_type": "code",
   "execution_count": 45,
   "metadata": {},
   "outputs": [],
   "source": [
    "from statsmodels.graphics.tsaplots import plot_acf,plot_pacf \n",
    "import statsmodels.api as sm"
   ]
  },
  {
   "cell_type": "code",
   "execution_count": 46,
   "metadata": {},
   "outputs": [
    {
     "data": {
      "image/png": "[encoded data removed]",
      "text/plain": [
       "<Figure size 864x576 with 2 Axes>"
      ]
     },
     "metadata": {
      "needs_background": "light"
     },
     "output_type": "display_data"
    }
   ],
   "source": [
    "fig = plt.figure(figsize=(12,8))\n",
    "ax1 = fig.add_subplot(211)\n",
    "fig = sm.graphics.tsa.plot_acf(data3['Neu'].iloc[0:],lags=20,ax=ax1)\n",
    "ax2 = fig.add_subplot(212)\n",
    "fig = sm.graphics.tsa.plot_pacf(data3['Neu'].iloc[0:],lags=15,ax=ax2)"
   ]
  },
  {
   "cell_type": "code",
   "execution_count": 47,
   "metadata": {},
   "outputs": [],
   "source": [
    "def arimamodel(df):\n",
    "    automodel=pm.auto_arima(df,start_p=0,start_q=0,max_p=4,max_q=4,test=\"adf\",seasonal=False,trace=True)\n",
    "    return automodel"
   ]
  },
  {
   "cell_type": "code",
   "execution_count": 48,
   "metadata": {},
   "outputs": [
    {
     "name": "stdout",
     "output_type": "stream",
     "text": [
      "Performing stepwise search to minimize aic\n",
      " ARIMA(0,2,0)(0,0,0)[0] intercept   : AIC=515.251, Time=0.00 sec\n",
      " ARIMA(1,2,0)(0,0,0)[0] intercept   : AIC=482.189, Time=0.06 sec\n",
      " ARIMA(0,2,1)(0,0,0)[0] intercept   : AIC=inf, Time=0.09 sec\n",
      " ARIMA(0,2,0)(0,0,0)[0]             : AIC=513.279, Time=0.02 sec\n",
      " ARIMA(2,2,0)(0,0,0)[0] intercept   : AIC=476.078, Time=0.11 sec\n",
      " ARIMA(3,2,0)(0,0,0)[0] intercept   : AIC=473.767, Time=0.22 sec\n",
      " ARIMA(4,2,0)(0,0,0)[0] intercept   : AIC=474.062, Time=0.18 sec\n",
      " ARIMA(3,2,1)(0,0,0)[0] intercept   : AIC=inf, Time=0.37 sec\n",
      " ARIMA(2,2,1)(0,0,0)[0] intercept   : AIC=inf, Time=0.22 sec\n",
      " ARIMA(4,2,1)(0,0,0)[0] intercept   : AIC=inf, Time=0.42 sec\n",
      " ARIMA(3,2,0)(0,0,0)[0]             : AIC=471.793, Time=0.04 sec\n",
      " ARIMA(2,2,0)(0,0,0)[0]             : AIC=474.084, Time=0.03 sec\n",
      " ARIMA(4,2,0)(0,0,0)[0]             : AIC=472.065, Time=0.14 sec\n",
      " ARIMA(3,2,1)(0,0,0)[0]             : AIC=inf, Time=0.16 sec\n",
      " ARIMA(2,2,1)(0,0,0)[0]             : AIC=inf, Time=0.12 sec\n",
      " ARIMA(4,2,1)(0,0,0)[0]             : AIC=inf, Time=0.22 sec\n",
      "\n",
      "Best model:  ARIMA(3,2,0)(0,0,0)[0]          \n",
      "Total fit time: 2.451 seconds\n"
     ]
    },
    {
     "data": {
      "text/plain": [
       "ARIMA(order=(3, 2, 0), scoring_args={}, suppress_warnings=True,\n",
       "      with_intercept=False)"
      ]
     },
     "execution_count": 48,
     "metadata": {},
     "output_type": "execute_result"
    }
   ],
   "source": [
    "arimamodel(data3[\"Neu\"])"
   ]
  },
  {
   "cell_type": "code",
   "execution_count": 49,
   "metadata": {},
   "outputs": [],
   "source": [
    "from statsmodels.tsa.arima_model import ARIMA"
   ]
  },
  {
   "cell_type": "code",
   "execution_count": 50,
   "metadata": {},
   "outputs": [
    {
     "name": "stderr",
     "output_type": "stream",
     "text": [
      "C:\\Users\\asus\\anaconda3\\lib\\site-packages\\statsmodels\\tsa\\arima_model.py:472: FutureWarning: \n",
      "statsmodels.tsa.arima_model.ARMA and statsmodels.tsa.arima_model.ARIMA have\n",
      "been deprecated in favor of statsmodels.tsa.arima.model.ARIMA (note the .\n",
      "between arima and model) and\n",
      "statsmodels.tsa.SARIMAX. These will be removed after the 0.12 release.\n",
      "\n",
      "statsmodels.tsa.arima.model.ARIMA makes use of the statespace framework and\n",
      "is both well tested and maintained.\n",
      "\n",
      "To silence this warning and continue using ARMA and ARIMA until they are\n",
      "removed, use:\n",
      "\n",
      "import warnings\n",
      "warnings.filterwarnings('ignore', 'statsmodels.tsa.arima_model.ARMA',\n",
      "                        FutureWarning)\n",
      "warnings.filterwarnings('ignore', 'statsmodels.tsa.arima_model.ARIMA',\n",
      "                        FutureWarning)\n",
      "\n",
      "  warnings.warn(ARIMA_DEPRECATION_WARN, FutureWarning)\n",
      "C:\\Users\\asus\\anaconda3\\lib\\site-packages\\statsmodels\\tsa\\base\\tsa_model.py:581: ValueWarning: A date index has been provided, but it has no associated frequency information and so will be ignored when e.g. forecasting.\n",
      "  warnings.warn('A date index has been provided, but it has no'\n",
      "C:\\Users\\asus\\anaconda3\\lib\\site-packages\\statsmodels\\tsa\\base\\tsa_model.py:585: ValueWarning: A date index has been provided, but it is not monotonic and so will be ignored when e.g. forecasting.\n",
      "  warnings.warn('A date index has been provided, but it is not'\n",
      "C:\\Users\\asus\\anaconda3\\lib\\site-packages\\statsmodels\\tsa\\base\\tsa_model.py:581: ValueWarning: A date index has been provided, but it has no associated frequency information and so will be ignored when e.g. forecasting.\n",
      "  warnings.warn('A date index has been provided, but it has no'\n",
      "C:\\Users\\asus\\anaconda3\\lib\\site-packages\\statsmodels\\tsa\\base\\tsa_model.py:585: ValueWarning: A date index has been provided, but it is not monotonic and so will be ignored when e.g. forecasting.\n",
      "  warnings.warn('A date index has been provided, but it is not'\n"
     ]
    }
   ],
   "source": [
    "model = ARIMA(data3['Neu'],order=(3,2,0))\n",
    "model_fit3=model.fit()"
   ]
  },
  {
   "cell_type": "code",
   "execution_count": 51,
   "metadata": {},
   "outputs": [
    {
     "data": {
      "text/html": [
       "<table class=\"simpletable\">\n",
       "<caption>ARIMA Model Results</caption>\n",
       "<tr>\n",
       "  <th>Dep. Variable:</th>      <td>D2.Neu</td>      <th>  No. Observations:  </th>    <td>32</td>   \n",
       "</tr>\n",
       "<tr>\n",
       "  <th>Model:</th>          <td>ARIMA(3, 2, 0)</td>  <th>  Log Likelihood     </th> <td>-232.296</td>\n",
       "</tr>\n",
       "<tr>\n",
       "  <th>Method:</th>             <td>css-mle</td>     <th>  S.D. of innovations</th>  <td>333.212</td>\n",
       "</tr>\n",
       "<tr>\n",
       "  <th>Date:</th>          <td>Sat, 01 May 2021</td> <th>  AIC                </th>  <td>474.593</td>\n",
       "</tr>\n",
       "<tr>\n",
       "  <th>Time:</th>              <td>10:10:10</td>     <th>  BIC                </th>  <td>481.921</td>\n",
       "</tr>\n",
       "<tr>\n",
       "  <th>Sample:</th>                <td>2</td>        <th>  HQIC               </th>  <td>477.022</td>\n",
       "</tr>\n",
       "<tr>\n",
       "  <th></th>                       <td> </td>        <th>                     </th>     <td> </td>   \n",
       "</tr>\n",
       "</table>\n",
       "<table class=\"simpletable\">\n",
       "<tr>\n",
       "        <td></td>          <th>coef</th>     <th>std err</th>      <th>z</th>      <th>P>|z|</th>  <th>[0.025</th>    <th>0.975]</th>  \n",
       "</tr>\n",
       "<tr>\n",
       "  <th>const</th>        <td>    2.1946</td> <td>   16.760</td> <td>    0.131</td> <td> 0.896</td> <td>  -30.654</td> <td>   35.043</td>\n",
       "</tr>\n",
       "<tr>\n",
       "  <th>ar.L1.D2.Neu</th> <td>   -1.3752</td> <td>    0.162</td> <td>   -8.479</td> <td> 0.000</td> <td>   -1.693</td> <td>   -1.057</td>\n",
       "</tr>\n",
       "<tr>\n",
       "  <th>ar.L2.D2.Neu</th> <td>   -0.9170</td> <td>    0.248</td> <td>   -3.703</td> <td> 0.000</td> <td>   -1.402</td> <td>   -0.432</td>\n",
       "</tr>\n",
       "<tr>\n",
       "  <th>ar.L3.D2.Neu</th> <td>   -0.3623</td> <td>    0.165</td> <td>   -2.191</td> <td> 0.028</td> <td>   -0.686</td> <td>   -0.038</td>\n",
       "</tr>\n",
       "</table>\n",
       "<table class=\"simpletable\">\n",
       "<caption>Roots</caption>\n",
       "<tr>\n",
       "    <td></td>   <th>            Real</th>  <th>         Imaginary</th> <th>         Modulus</th>  <th>        Frequency</th>\n",
       "</tr>\n",
       "<tr>\n",
       "  <th>AR.1</th> <td>          -1.2580</td> <td>          -0.0000j</td> <td>           1.2580</td> <td>          -0.5000</td>\n",
       "</tr>\n",
       "<tr>\n",
       "  <th>AR.2</th> <td>          -0.6367</td> <td>          -1.3375j</td> <td>           1.4813</td> <td>          -0.3207</td>\n",
       "</tr>\n",
       "<tr>\n",
       "  <th>AR.3</th> <td>          -0.6367</td> <td>          +1.3375j</td> <td>           1.4813</td> <td>           0.3207</td>\n",
       "</tr>\n",
       "</table>"
      ],
      "text/plain": [
       "<class 'statsmodels.iolib.summary.Summary'>\n",
       "\"\"\"\n",
       "                             ARIMA Model Results                              \n",
       "==============================================================================\n",
       "Dep. Variable:                 D2.Neu   No. Observations:                   32\n",
       "Model:                 ARIMA(3, 2, 0)   Log Likelihood                -232.296\n",
       "Method:                       css-mle   S.D. of innovations            333.212\n",
       "Date:                Sat, 01 May 2021   AIC                            474.593\n",
       "Time:                        10:10:10   BIC                            481.921\n",
       "Sample:                             2   HQIC                           477.022\n",
       "                                                                              \n",
       "================================================================================\n",
       "                   coef    std err          z      P>|z|      [0.025      0.975]\n",
       "--------------------------------------------------------------------------------\n",
       "const            2.1946     16.760      0.131      0.896     -30.654      35.043\n",
       "ar.L1.D2.Neu    -1.3752      0.162     -8.479      0.000      -1.693      -1.057\n",
       "ar.L2.D2.Neu    -0.9170      0.248     -3.703      0.000      -1.402      -0.432\n",
       "ar.L3.D2.Neu    -0.3623      0.165     -2.191      0.028      -0.686      -0.038\n",
       "                                    Roots                                    \n",
       "=============================================================================\n",
       "                  Real          Imaginary           Modulus         Frequency\n",
       "-----------------------------------------------------------------------------\n",
       "AR.1           -1.2580           -0.0000j            1.2580           -0.5000\n",
       "AR.2           -0.6367           -1.3375j            1.4813           -0.3207\n",
       "AR.3           -0.6367           +1.3375j            1.4813            0.3207\n",
       "-----------------------------------------------------------------------------\n",
       "\"\"\""
      ]
     },
     "execution_count": 51,
     "metadata": {},
     "output_type": "execute_result"
    }
   ],
   "source": [
    "model_fit3.summary()"
   ]
  },
  {
   "cell_type": "code",
   "execution_count": 52,
   "metadata": {},
   "outputs": [
    {
     "name": "stderr",
     "output_type": "stream",
     "text": [
      "<ipython-input-52-b7e8b7c1c61c>:1: SettingWithCopyWarning: \n",
      "A value is trying to be set on a copy of a slice from a DataFrame.\n",
      "Try using .loc[row_indexer,col_indexer] = value instead\n",
      "\n",
      "See the caveats in the documentation: https://pandas.pydata.org/pandas-docs/stable/user_guide/indexing.html#returning-a-view-versus-a-copy\n",
      "  data3['forecast']=model_fit3.predict(start=2,end=33, dynamic=False)\n"
     ]
    },
    {
     "data": {
      "image/png": "[encoded data removed]",
      "text/plain": [
       "<Figure size 864x576 with 1 Axes>"
      ]
     },
     "metadata": {
      "needs_background": "light"
     },
     "output_type": "display_data"
    }
   ],
   "source": [
    "data3['forecast']=model_fit3.predict(start=2,end=33, dynamic=False)\n",
    "#pd.Series(model_fit3.fittedvalues,copy=True)\n",
    "data3[['Neu','forecast']].plot(figsize=(12,8));"
   ]
  },
  {
   "cell_type": "code",
   "execution_count": 53,
   "metadata": {},
   "outputs": [],
   "source": [
    "Neutral = model_fit3.forecast(steps=10)[0]"
   ]
  },
  {
   "cell_type": "code",
   "execution_count": 54,
   "metadata": {},
   "outputs": [
    {
     "data": {
      "text/plain": [
       "array([163.44410743, 291.36702935, 338.10722447, 425.26853858,\n",
       "       457.26260792, 565.48641487, 612.84490712, 702.00686292,\n",
       "       769.8998621 , 858.77710552])"
      ]
     },
     "execution_count": 54,
     "metadata": {},
     "output_type": "execute_result"
    }
   ],
   "source": [
    "Neutral"
   ]
  },
  {
   "cell_type": "code",
   "execution_count": 55,
   "metadata": {},
   "outputs": [],
   "source": [
    "E = list(zip(Positive,Negative,Neutral))"
   ]
  },
  {
   "cell_type": "code",
   "execution_count": 57,
   "metadata": {},
   "outputs": [],
   "source": [
    "df = pd.DataFrame(E,columns=['Positive','Negative','Neutral'])"
   ]
  },
  {
   "cell_type": "code",
   "execution_count": 58,
   "metadata": {},
   "outputs": [
    {
     "data": {
      "text/html": [
       "<div>\n",
       "<style scoped>\n",
       "    .dataframe tbody tr th:only-of-type {\n",
       "        vertical-align: middle;\n",
       "    }\n",
       "\n",
       "    .dataframe tbody tr th {\n",
       "        vertical-align: top;\n",
       "    }\n",
       "\n",
       "    .dataframe thead th {\n",
       "        text-align: right;\n",
       "    }\n",
       "</style>\n",
       "<table border=\"1\" class=\"dataframe\">\n",
       "  <thead>\n",
       "    <tr style=\"text-align: right;\">\n",
       "      <th></th>\n",
       "      <th>Positive</th>\n",
       "      <th>Negative</th>\n",
       "      <th>Neutral</th>\n",
       "    </tr>\n",
       "  </thead>\n",
       "  <tbody>\n",
       "    <tr>\n",
       "      <th>0</th>\n",
       "      <td>356.978283</td>\n",
       "      <td>1236.154524</td>\n",
       "      <td>163.444107</td>\n",
       "    </tr>\n",
       "    <tr>\n",
       "      <th>1</th>\n",
       "      <td>365.208634</td>\n",
       "      <td>919.483509</td>\n",
       "      <td>291.367029</td>\n",
       "    </tr>\n",
       "    <tr>\n",
       "      <th>2</th>\n",
       "      <td>358.879259</td>\n",
       "      <td>1595.118360</td>\n",
       "      <td>338.107224</td>\n",
       "    </tr>\n",
       "    <tr>\n",
       "      <th>3</th>\n",
       "      <td>205.311374</td>\n",
       "      <td>1296.768530</td>\n",
       "      <td>425.268539</td>\n",
       "    </tr>\n",
       "    <tr>\n",
       "      <th>4</th>\n",
       "      <td>291.534118</td>\n",
       "      <td>1990.678905</td>\n",
       "      <td>457.262608</td>\n",
       "    </tr>\n",
       "    <tr>\n",
       "      <th>5</th>\n",
       "      <td>359.685175</td>\n",
       "      <td>1695.804047</td>\n",
       "      <td>565.486415</td>\n",
       "    </tr>\n",
       "    <tr>\n",
       "      <th>6</th>\n",
       "      <td>297.147817</td>\n",
       "      <td>2400.640505</td>\n",
       "      <td>612.844907</td>\n",
       "    </tr>\n",
       "    <tr>\n",
       "      <th>7</th>\n",
       "      <td>290.739692</td>\n",
       "      <td>2119.850479</td>\n",
       "      <td>702.006863</td>\n",
       "    </tr>\n",
       "    <tr>\n",
       "      <th>8</th>\n",
       "      <td>278.123798</td>\n",
       "      <td>2837.260488</td>\n",
       "      <td>769.899862</td>\n",
       "    </tr>\n",
       "    <tr>\n",
       "      <th>9</th>\n",
       "      <td>310.146203</td>\n",
       "      <td>2566.139525</td>\n",
       "      <td>858.777106</td>\n",
       "    </tr>\n",
       "  </tbody>\n",
       "</table>\n",
       "</div>"
      ],
      "text/plain": [
       "     Positive     Negative     Neutral\n",
       "0  356.978283  1236.154524  163.444107\n",
       "1  365.208634   919.483509  291.367029\n",
       "2  358.879259  1595.118360  338.107224\n",
       "3  205.311374  1296.768530  425.268539\n",
       "4  291.534118  1990.678905  457.262608\n",
       "5  359.685175  1695.804047  565.486415\n",
       "6  297.147817  2400.640505  612.844907\n",
       "7  290.739692  2119.850479  702.006863\n",
       "8  278.123798  2837.260488  769.899862\n",
       "9  310.146203  2566.139525  858.777106"
      ]
     },
     "execution_count": 58,
     "metadata": {},
     "output_type": "execute_result"
    }
   ],
   "source": [
    "df"
   ]
  },
  {
   "cell_type": "code",
   "execution_count": 61,
   "metadata": {},
   "outputs": [],
   "source": [
    "df.to_csv(r'C:\\Users\\asus\\Desktop\\Hashtag WD\\Cricket\\Cricket_Pred.csv',index=False)"
   ]
  },
  {
   "cell_type": "code",
   "execution_count": 2,
   "metadata": {},
   "outputs": [],
   "source": [
    "Sentiment = pd.read_csv(\"Cricket_Pred.csv\")"
   ]
  },
  {
   "cell_type": "code",
   "execution_count": 3,
   "metadata": {},
   "outputs": [
    {
     "data": {
      "text/html": [
       "<div>\n",
       "<style scoped>\n",
       "    .dataframe tbody tr th:only-of-type {\n",
       "        vertical-align: middle;\n",
       "    }\n",
       "\n",
       "    .dataframe tbody tr th {\n",
       "        vertical-align: top;\n",
       "    }\n",
       "\n",
       "    .dataframe thead th {\n",
       "        text-align: right;\n",
       "    }\n",
       "</style>\n",
       "<table border=\"1\" class=\"dataframe\">\n",
       "  <thead>\n",
       "    <tr style=\"text-align: right;\">\n",
       "      <th></th>\n",
       "      <th>Positive</th>\n",
       "      <th>Negative</th>\n",
       "      <th>Neutral</th>\n",
       "      <th>Sentiment</th>\n",
       "    </tr>\n",
       "  </thead>\n",
       "  <tbody>\n",
       "    <tr>\n",
       "      <th>0</th>\n",
       "      <td>356.978283</td>\n",
       "      <td>1236.154524</td>\n",
       "      <td>163.444107</td>\n",
       "      <td>Negative</td>\n",
       "    </tr>\n",
       "    <tr>\n",
       "      <th>1</th>\n",
       "      <td>365.208634</td>\n",
       "      <td>919.483509</td>\n",
       "      <td>291.367029</td>\n",
       "      <td>Negative</td>\n",
       "    </tr>\n",
       "    <tr>\n",
       "      <th>2</th>\n",
       "      <td>358.879260</td>\n",
       "      <td>1595.118360</td>\n",
       "      <td>338.107225</td>\n",
       "      <td>Negative</td>\n",
       "    </tr>\n",
       "    <tr>\n",
       "      <th>3</th>\n",
       "      <td>205.311374</td>\n",
       "      <td>1296.768530</td>\n",
       "      <td>425.268539</td>\n",
       "      <td>Negative</td>\n",
       "    </tr>\n",
       "    <tr>\n",
       "      <th>4</th>\n",
       "      <td>291.534118</td>\n",
       "      <td>1990.678905</td>\n",
       "      <td>457.262608</td>\n",
       "      <td>Negative</td>\n",
       "    </tr>\n",
       "    <tr>\n",
       "      <th>5</th>\n",
       "      <td>359.685175</td>\n",
       "      <td>1695.804047</td>\n",
       "      <td>565.486415</td>\n",
       "      <td>Negative</td>\n",
       "    </tr>\n",
       "    <tr>\n",
       "      <th>6</th>\n",
       "      <td>297.147817</td>\n",
       "      <td>2400.640505</td>\n",
       "      <td>612.844907</td>\n",
       "      <td>Negative</td>\n",
       "    </tr>\n",
       "    <tr>\n",
       "      <th>7</th>\n",
       "      <td>290.739692</td>\n",
       "      <td>2119.850479</td>\n",
       "      <td>702.006863</td>\n",
       "      <td>Negative</td>\n",
       "    </tr>\n",
       "    <tr>\n",
       "      <th>8</th>\n",
       "      <td>278.123798</td>\n",
       "      <td>2837.260488</td>\n",
       "      <td>769.899862</td>\n",
       "      <td>Negative</td>\n",
       "    </tr>\n",
       "    <tr>\n",
       "      <th>9</th>\n",
       "      <td>310.146203</td>\n",
       "      <td>2566.139525</td>\n",
       "      <td>858.777105</td>\n",
       "      <td>Negative</td>\n",
       "    </tr>\n",
       "  </tbody>\n",
       "</table>\n",
       "</div>"
      ],
      "text/plain": [
       "     Positive     Negative     Neutral Sentiment\n",
       "0  356.978283  1236.154524  163.444107  Negative\n",
       "1  365.208634   919.483509  291.367029  Negative\n",
       "2  358.879260  1595.118360  338.107225  Negative\n",
       "3  205.311374  1296.768530  425.268539  Negative\n",
       "4  291.534118  1990.678905  457.262608  Negative\n",
       "5  359.685175  1695.804047  565.486415  Negative\n",
       "6  297.147817  2400.640505  612.844907  Negative\n",
       "7  290.739692  2119.850479  702.006863  Negative\n",
       "8  278.123798  2837.260488  769.899862  Negative\n",
       "9  310.146203  2566.139525  858.777105  Negative"
      ]
     },
     "execution_count": 3,
     "metadata": {},
     "output_type": "execute_result"
    }
   ],
   "source": [
    "Sentiment"
   ]
  },
  {
   "cell_type": "code",
   "execution_count": 4,
   "metadata": {},
   "outputs": [],
   "source": [
    "Actual_sentiment = pd.read_csv(\"Cricket_Actual_Sentiment.csv\")"
   ]
  },
  {
   "cell_type": "code",
   "execution_count": 5,
   "metadata": {},
   "outputs": [
    {
     "data": {
      "text/html": [
       "<div>\n",
       "<style scoped>\n",
       "    .dataframe tbody tr th:only-of-type {\n",
       "        vertical-align: middle;\n",
       "    }\n",
       "\n",
       "    .dataframe tbody tr th {\n",
       "        vertical-align: top;\n",
       "    }\n",
       "\n",
       "    .dataframe thead th {\n",
       "        text-align: right;\n",
       "    }\n",
       "</style>\n",
       "<table border=\"1\" class=\"dataframe\">\n",
       "  <thead>\n",
       "    <tr style=\"text-align: right;\">\n",
       "      <th></th>\n",
       "      <th>date</th>\n",
       "      <th>Pos</th>\n",
       "      <th>Neg</th>\n",
       "      <th>Neu</th>\n",
       "      <th>Sentiment</th>\n",
       "    </tr>\n",
       "  </thead>\n",
       "  <tbody>\n",
       "    <tr>\n",
       "      <th>0</th>\n",
       "      <td>21-Apr-21</td>\n",
       "      <td>589</td>\n",
       "      <td>103</td>\n",
       "      <td>308</td>\n",
       "      <td>Positive</td>\n",
       "    </tr>\n",
       "    <tr>\n",
       "      <th>1</th>\n",
       "      <td>22-Apr-21</td>\n",
       "      <td>512</td>\n",
       "      <td>89</td>\n",
       "      <td>399</td>\n",
       "      <td>Positive</td>\n",
       "    </tr>\n",
       "    <tr>\n",
       "      <th>2</th>\n",
       "      <td>23-Apr-21</td>\n",
       "      <td>659</td>\n",
       "      <td>58</td>\n",
       "      <td>283</td>\n",
       "      <td>Positive</td>\n",
       "    </tr>\n",
       "    <tr>\n",
       "      <th>3</th>\n",
       "      <td>24-Apr-21</td>\n",
       "      <td>240</td>\n",
       "      <td>157</td>\n",
       "      <td>603</td>\n",
       "      <td>Neutral</td>\n",
       "    </tr>\n",
       "    <tr>\n",
       "      <th>4</th>\n",
       "      <td>25-Apr-21</td>\n",
       "      <td>702</td>\n",
       "      <td>198</td>\n",
       "      <td>100</td>\n",
       "      <td>Positive</td>\n",
       "    </tr>\n",
       "    <tr>\n",
       "      <th>5</th>\n",
       "      <td>26-Apr-21</td>\n",
       "      <td>489</td>\n",
       "      <td>212</td>\n",
       "      <td>299</td>\n",
       "      <td>Positive</td>\n",
       "    </tr>\n",
       "    <tr>\n",
       "      <th>6</th>\n",
       "      <td>27-Apr-21</td>\n",
       "      <td>270</td>\n",
       "      <td>207</td>\n",
       "      <td>523</td>\n",
       "      <td>Neutral</td>\n",
       "    </tr>\n",
       "    <tr>\n",
       "      <th>7</th>\n",
       "      <td>28-Apr-21</td>\n",
       "      <td>499</td>\n",
       "      <td>107</td>\n",
       "      <td>394</td>\n",
       "      <td>Positive</td>\n",
       "    </tr>\n",
       "    <tr>\n",
       "      <th>8</th>\n",
       "      <td>29-Apr-21</td>\n",
       "      <td>427</td>\n",
       "      <td>137</td>\n",
       "      <td>436</td>\n",
       "      <td>Neutral</td>\n",
       "    </tr>\n",
       "    <tr>\n",
       "      <th>9</th>\n",
       "      <td>30-Apr-21</td>\n",
       "      <td>324</td>\n",
       "      <td>278</td>\n",
       "      <td>398</td>\n",
       "      <td>Neutral</td>\n",
       "    </tr>\n",
       "  </tbody>\n",
       "</table>\n",
       "</div>"
      ],
      "text/plain": [
       "        date  Pos  Neg  Neu Sentiment\n",
       "0  21-Apr-21  589  103  308  Positive\n",
       "1  22-Apr-21  512   89  399  Positive\n",
       "2  23-Apr-21  659   58  283  Positive\n",
       "3  24-Apr-21  240  157  603   Neutral\n",
       "4  25-Apr-21  702  198  100  Positive\n",
       "5  26-Apr-21  489  212  299  Positive\n",
       "6  27-Apr-21  270  207  523   Neutral\n",
       "7  28-Apr-21  499  107  394  Positive\n",
       "8  29-Apr-21  427  137  436   Neutral\n",
       "9  30-Apr-21  324  278  398   Neutral"
      ]
     },
     "execution_count": 5,
     "metadata": {},
     "output_type": "execute_result"
    }
   ],
   "source": [
    "Actual_sentiment"
   ]
  },
  {
   "cell_type": "code",
   "execution_count": 24,
   "metadata": {},
   "outputs": [
    {
     "name": "stdout",
     "output_type": "stream",
     "text": [
      "MAPE for Positive : 30.390554357816736\n",
      "MAPE for Negative : 1274.9713015997265\n",
      "MAPE for Neutral : 85.695373592834\n"
     ]
    }
   ],
   "source": [
    "diff_Pos=abs(Sentiment.Positive-Actual_sentiment.Pos)\n",
    "MAPE_Pos=np.mean(diff_Pos/Actual_sentiment.Pos)*100\n",
    "print(\"MAPE for Positive :\",MAPE_Pos)\n",
    "\n",
    "diff_Neg=abs(Sentiment.Negative-Actual_sentiment.Neg)\n",
    "MAPE_Neg=np.mean(diff_Neg/Actual_sentiment.Neg)*100\n",
    "print(\"MAPE for Negative :\",MAPE_Neg)\n",
    "\n",
    "diff_Neu=abs(Sentiment.Neutral-Actual_sentiment.Neu)\n",
    "MAPE_Neu=np.mean(diff_Neu/Actual_sentiment.Neu)*100\n",
    "print(\"MAPE for Neutral :\",MAPE_Neu)"
   ]
  },
  {
   "cell_type": "code",
   "execution_count": 25,
   "metadata": {},
   "outputs": [],
   "source": [
    "from sklearn.metrics import confusion_matrix"
   ]
  },
  {
   "cell_type": "code",
   "execution_count": 27,
   "metadata": {},
   "outputs": [
    {
     "name": "stdout",
     "output_type": "stream",
     "text": [
      "confusion matrix : \n",
      " [[0 6 0]\n",
      " [0 0 0]\n",
      " [0 4 0]]\n"
     ]
    }
   ],
   "source": [
    "matrix=confusion_matrix(Actual_sentiment.Sentiment,Sentiment.Sentiment,labels=[\"Positive\",\"Negative\",\"Neutral\"])\n",
    "print(\"confusion matrix : \\n\",matrix)"
   ]
  },
  {
   "cell_type": "code",
   "execution_count": 28,
   "metadata": {},
   "outputs": [
    {
     "data": {
      "text/plain": [
       "array([[0, 6, 0],\n",
       "       [0, 0, 0],\n",
       "       [0, 4, 0]], dtype=int64)"
      ]
     },
     "execution_count": 28,
     "metadata": {},
     "output_type": "execute_result"
    }
   ],
   "source": [
    "matrix"
   ]
  },
  {
   "cell_type": "code",
   "execution_count": 35,
   "metadata": {},
   "outputs": [],
   "source": [
    "dia_sum=np.trace(matrix)"
   ]
  },
  {
   "cell_type": "code",
   "execution_count": 36,
   "metadata": {},
   "outputs": [],
   "source": [
    "all_sum=np.sum(matrix)"
   ]
  },
  {
   "cell_type": "code",
   "execution_count": 39,
   "metadata": {},
   "outputs": [
    {
     "data": {
      "text/plain": [
       "0.0"
      ]
     },
     "execution_count": 39,
     "metadata": {},
     "output_type": "execute_result"
    }
   ],
   "source": [
    "accuracy=dia_sum/all_sum\n",
    "accuracy"
   ]
  },
  {
   "cell_type": "code",
   "execution_count": null,
   "metadata": {},
   "outputs": [],
   "source": []
  }
 ],
 "metadata": {
  "kernelspec": {
   "display_name": "Python 3",
   "language": "python",
   "name": "python3"
  },
  "language_info": {
   "codemirror_mode": {
    "name": "ipython",
    "version": 3
   },
   "file_extension": ".py",
   "mimetype": "text/x-python",
   "name": "python",
   "nbconvert_exporter": "python",
   "pygments_lexer": "ipython3",
   "version": "3.8.5"
  }
 },
 "nbformat": 4,
 "nbformat_minor": 4
}
